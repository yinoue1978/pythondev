{
 "cells": [
  {
   "cell_type": "code",
   "execution_count": 49,
   "id": "8953b66c",
   "metadata": {},
   "outputs": [
    {
     "name": "stdout",
     "output_type": "stream",
     "text": [
      "送料として350円かかります\n",
      "送料込みの価格は2330円です。\n"
     ]
    }
   ],
   "source": [
    "price1 = int(input(\"税抜き価格を入力してください：\"))\n",
    "price2 = int(price1 * 1.1 + 0.5)\n",
    "\n",
    "if price2 >= 2000:\n",
    "    price3 = price2\n",
    "    print(\"送料は無料です\")\n",
    "    \n",
    "else:\n",
    "    price3 = price2 + 350\n",
    "    print(\"送料として350円かかります\")\n",
    "\n",
    "print(f\"送料込みの価格は{price3}円です。\")\n"
   ]
  }
 ],
 "metadata": {
  "kernelspec": {
   "display_name": ".venv",
   "language": "python",
   "name": "python3"
  },
  "language_info": {
   "codemirror_mode": {
    "name": "ipython",
    "version": 3
   },
   "file_extension": ".py",
   "mimetype": "text/x-python",
   "name": "python",
   "nbconvert_exporter": "python",
   "pygments_lexer": "ipython3",
   "version": "3.12.7"
  }
 },
 "nbformat": 4,
 "nbformat_minor": 5
}
