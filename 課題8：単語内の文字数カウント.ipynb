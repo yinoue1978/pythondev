{
 "cells": [
  {
   "cell_type": "code",
   "execution_count": 82,
   "id": "ce09d013",
   "metadata": {},
   "outputs": [
    {
     "name": "stdout",
     "output_type": "stream",
     "text": [
      "英単語を入力してください：dog\n",
      "英単語を入力してください：cat\n",
      "英単語を入力してください：giraffe\n",
      "英単語を入力してください：kangaroo\n",
      "英単語を入力してください：horse\n",
      "英単語を入力してください：bear\n",
      "英単語を入力してください：\n",
      "入力した英単語：['bear', 'cat', 'dog', 'giraffe', 'horse', 'kangaroo']\n",
      "aが5個ありました\n",
      "bが1個ありました\n",
      "cが1個ありました\n",
      "dが1個ありました\n",
      "eが3個ありました\n",
      "fが2個ありました\n",
      "gが3個ありました\n",
      "hが1個ありました\n",
      "iが1個ありました\n",
      "kが1個ありました\n",
      "nが1個ありました\n",
      "oが4個ありました\n",
      "rが4個ありました\n",
      "sが1個ありました\n",
      "tが1個ありました\n"
     ]
    }
   ],
   "source": [
    "word_list = []\n",
    "alp_dict = {}\n",
    "\n",
    "#直打ちの場合\n",
    "#alp_string = 'abcdefghijklmnopqrstuvwxyz'\n",
    "#for char in alp_string:\n",
    "#    alp_dict[char] = 0\n",
    "\n",
    "for i in range(26):\n",
    "    char = chr(ord(\"a\") + i)\n",
    "    alp_dict[char] = 0\n",
    "\n",
    "while True:\n",
    "    word = input(\"英単語を入力してください\")\n",
    "    print(f\"英単語を入力してください：{word}\")\n",
    "\n",
    "    if word == \"\":\n",
    "        break\n",
    "    \n",
    "    else:\n",
    "        word_list.append(word)\n",
    "        word = word.lower()\n",
    "\n",
    "        for target in alp_dict:\n",
    "            alp_count = word.count(target)\n",
    "            alp_dict[target] += alp_count\n",
    "\n",
    "sorted_list = sorted(word_list)\n",
    "print(f\"入力した英単語：{sorted_list}\")\n",
    "\n",
    "for key, value in alp_dict.items():\n",
    "    if value > 0:\n",
    "        print(f\"{key}が{value}個ありました\")"
   ]
  }
 ],
 "metadata": {
  "language_info": {
   "name": "python"
  }
 },
 "nbformat": 4,
 "nbformat_minor": 5
}
