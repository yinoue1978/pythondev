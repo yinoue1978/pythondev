{
 "cells": [
  {
   "cell_type": "code",
   "execution_count": 1,
   "id": "ffebfd9f",
   "metadata": {},
   "outputs": [
    {
     "name": "stdout",
     "output_type": "stream",
     "text": [
      "私の名前は taro kirameki です。来年で 26 歳になります。\n"
     ]
    }
   ],
   "source": [
    "name = str(input(\"名前を入力してください：\"))\n",
    "age = int(input(\"現在の年齢を入力してください：\")) + 1\n",
    "print(\"私の名前は\", name, \"です。来年で\", age, \"歳になります。\")"
   ]
  }
 ],
 "metadata": {
  "kernelspec": {
   "display_name": ".venv",
   "language": "python",
   "name": "python3"
  },
  "language_info": {
   "codemirror_mode": {
    "name": "ipython",
    "version": 3
   },
   "file_extension": ".py",
   "mimetype": "text/x-python",
   "name": "python",
   "nbconvert_exporter": "python",
   "pygments_lexer": "ipython3",
   "version": "3.12.7"
  }
 },
 "nbformat": 4,
 "nbformat_minor": 5
}
